{
  "cells": [
    {
      "cell_type": "code",
      "source": [
        "import pandas as pd\n",
        "from sklearn.model_selection import train_test_split\n",
        "from sklearn.preprocessing import StandardScaler\n",
        "from sklearn.ensemble import RandomForestClassifier\n",
        "from sklearn.metrics import classification_report,confusion_matrix\n",
        "from sklearn.linear_model import LogisticRegression\n",
        "from sklearn.neighbors import KNeighborsClassifier\n",
        "from sklearn.svm import SVC\n",
        "from sklearn.tree import DecisionTreeClassifier\n",
        "import seaborn as sns"
      ],
      "metadata": {
        "id": "EaiiX_mGZzgP"
      },
      "execution_count": null,
      "outputs": []
    },
    {
      "cell_type": "code",
      "source": [
        "df=pd.read_csv(\"Postures.csv\")"
      ],
      "metadata": {
        "id": "XgYJ38ypG1gl"
      },
      "execution_count": null,
      "outputs": []
    },
    {
      "cell_type": "code",
      "source": [
        "df.shape"
      ],
      "metadata": {
        "colab": {
          "base_uri": "https://localhost:8080/"
        },
        "id": "g397Y0lsqHb5",
        "outputId": "1e2583b4-8704-4f87-fd13-6a402e755dbf"
      },
      "execution_count": null,
      "outputs": [
        {
          "output_type": "execute_result",
          "data": {
            "text/plain": [
              "(78096, 38)"
            ]
          },
          "metadata": {},
          "execution_count": 3
        }
      ]
    },
    {
      "cell_type": "code",
      "source": [
        "df.columns"
      ],
      "metadata": {
        "id": "_x1D2t3wG8Ti",
        "colab": {
          "base_uri": "https://localhost:8080/"
        },
        "outputId": "a8ab0f4d-2d56-4981-abb5-41d243f3359d"
      },
      "execution_count": null,
      "outputs": [
        {
          "output_type": "execute_result",
          "data": {
            "text/plain": [
              "Index(['Class', 'User', 'X0', 'Y0', 'Z0', 'X1', 'Y1', 'Z1', 'X2', 'Y2', 'Z2',\n",
              "       'X3', 'Y3', 'Z3', 'X4', 'Y4', 'Z4', 'X5', 'Y5', 'Z5', 'X6', 'Y6', 'Z6',\n",
              "       'X7', 'Y7', 'Z7', 'X8', 'Y8', 'Z8', 'X9', 'Y9', 'Z9', 'X10', 'Y10',\n",
              "       'Z10', 'X11', 'Y11', 'Z11'],\n",
              "      dtype='object')"
            ]
          },
          "metadata": {},
          "execution_count": 4
        }
      ]
    },
    {
      "cell_type": "code",
      "source": [
        "df.info()"
      ],
      "metadata": {
        "colab": {
          "base_uri": "https://localhost:8080/"
        },
        "id": "BEDCzFzB8WRK",
        "outputId": "d0081783-bbeb-4957-89e8-450e0901f830"
      },
      "execution_count": null,
      "outputs": [
        {
          "output_type": "stream",
          "name": "stdout",
          "text": [
            "<class 'pandas.core.frame.DataFrame'>\n",
            "RangeIndex: 78096 entries, 0 to 78095\n",
            "Data columns (total 38 columns):\n",
            " #   Column  Non-Null Count  Dtype  \n",
            "---  ------  --------------  -----  \n",
            " 0   Class   78096 non-null  int64  \n",
            " 1   User    78096 non-null  int64  \n",
            " 2   X0      78096 non-null  float64\n",
            " 3   Y0      78096 non-null  float64\n",
            " 4   Z0      78096 non-null  float64\n",
            " 5   X1      78096 non-null  float64\n",
            " 6   Y1      78096 non-null  float64\n",
            " 7   Z1      78096 non-null  float64\n",
            " 8   X2      78096 non-null  float64\n",
            " 9   Y2      78096 non-null  float64\n",
            " 10  Z2      78096 non-null  float64\n",
            " 11  X3      78096 non-null  object \n",
            " 12  Y3      78096 non-null  object \n",
            " 13  Z3      78096 non-null  object \n",
            " 14  X4      78096 non-null  object \n",
            " 15  Y4      78096 non-null  object \n",
            " 16  Z4      78096 non-null  object \n",
            " 17  X5      78096 non-null  object \n",
            " 18  Y5      78096 non-null  object \n",
            " 19  Z5      78096 non-null  object \n",
            " 20  X6      78096 non-null  object \n",
            " 21  Y6      78096 non-null  object \n",
            " 22  Z6      78096 non-null  object \n",
            " 23  X7      78096 non-null  object \n",
            " 24  Y7      78096 non-null  object \n",
            " 25  Z7      78096 non-null  object \n",
            " 26  X8      78096 non-null  object \n",
            " 27  Y8      78096 non-null  object \n",
            " 28  Z8      78096 non-null  object \n",
            " 29  X9      78096 non-null  object \n",
            " 30  Y9      78096 non-null  object \n",
            " 31  Z9      78096 non-null  object \n",
            " 32  X10     78096 non-null  object \n",
            " 33  Y10     78096 non-null  object \n",
            " 34  Z10     78096 non-null  object \n",
            " 35  X11     78096 non-null  object \n",
            " 36  Y11     78096 non-null  object \n",
            " 37  Z11     78096 non-null  object \n",
            "dtypes: float64(9), int64(2), object(27)\n",
            "memory usage: 22.6+ MB\n"
          ]
        }
      ]
    },
    {
      "cell_type": "code",
      "source": [
        "df.isna().sum()"
      ],
      "metadata": {
        "colab": {
          "base_uri": "https://localhost:8080/"
        },
        "id": "NrbnCUsyEgA0",
        "outputId": "0d2b8926-ba93-4c31-ba33-a7b6c06d8cdf"
      },
      "execution_count": null,
      "outputs": [
        {
          "output_type": "execute_result",
          "data": {
            "text/plain": [
              "Class    0\n",
              "User     0\n",
              "X0       0\n",
              "Y0       0\n",
              "Z0       0\n",
              "X1       0\n",
              "Y1       0\n",
              "Z1       0\n",
              "X2       0\n",
              "Y2       0\n",
              "Z2       0\n",
              "X3       0\n",
              "Y3       0\n",
              "Z3       0\n",
              "X4       0\n",
              "Y4       0\n",
              "Z4       0\n",
              "X5       0\n",
              "Y5       0\n",
              "Z5       0\n",
              "X6       0\n",
              "Y6       0\n",
              "Z6       0\n",
              "X7       0\n",
              "Y7       0\n",
              "Z7       0\n",
              "X8       0\n",
              "Y8       0\n",
              "Z8       0\n",
              "X9       0\n",
              "Y9       0\n",
              "Z9       0\n",
              "X10      0\n",
              "Y10      0\n",
              "Z10      0\n",
              "X11      0\n",
              "Y11      0\n",
              "Z11      0\n",
              "dtype: int64"
            ]
          },
          "metadata": {},
          "execution_count": 6
        }
      ]
    },
    {
      "cell_type": "code",
      "source": [
        "df.replace('?','0',inplace = True)\n",
        "df = df.astype(float)\n",
        "df=df.iloc[1:]\n",
        "df.drop(\"User\",axis=1,inplace=True)"
      ],
      "metadata": {
        "id": "hjW0iro7G-b2"
      },
      "execution_count": null,
      "outputs": []
    },
    {
      "cell_type": "code",
      "source": [
        "df.describe()"
      ],
      "metadata": {
        "id": "fHhz53pjLbjb",
        "colab": {
          "base_uri": "https://localhost:8080/",
          "height": 393
        },
        "outputId": "58475298-7d9f-4dfa-d3f4-0339e9d2fa63"
      },
      "execution_count": null,
      "outputs": [
        {
          "output_type": "execute_result",
          "data": {
            "text/plain": [
              "              Class            X0            Y0            Z0            X1  \\\n",
              "count  78095.000000  78095.000000  78095.000000  78095.000000  78095.000000   \n",
              "mean       2.983776     50.346308     85.813150    -29.985096     49.595844   \n",
              "std        1.421152     32.695886     40.203448     34.361971     32.477961   \n",
              "min        1.000000   -108.552738    -98.233756   -126.770872   -111.685241   \n",
              "25%        2.000000     29.295141     63.497746    -56.356593     28.755679   \n",
              "50%        3.000000     54.620245     86.526334    -30.864248     54.215714   \n",
              "75%        4.000000     72.488833    113.108673     -1.419462     71.763080   \n",
              "max        5.000000    190.017835    169.175464    113.345119    188.691997   \n",
              "\n",
              "                 Y1            Z1            X2            Y2            Z2  \\\n",
              "count  78095.000000  78095.000000  78095.000000  78095.000000  78095.000000   \n",
              "mean      86.193751    -29.509579     48.612744     83.772387    -30.560906   \n",
              "std       40.452297     34.764460     33.605155     41.022710     35.120384   \n",
              "min      -96.142589   -166.006838   -106.886524   -100.789312   -129.595296   \n",
              "25%       64.156450    -57.360408     25.173405     58.053733    -58.654339   \n",
              "50%       87.543493    -30.185331     53.814592     86.459935    -32.356535   \n",
              "75%      116.228881     -0.368080     71.561988    106.661720     -0.946134   \n",
              "max      170.209350    104.697852    188.760168    168.186466    104.590879   \n",
              "\n",
              "       ...            Z8            X9            Y9            Z9  \\\n",
              "count  ...  78095.000000  78095.000000  78095.000000  78095.000000   \n",
              "mean   ...     -9.535343     16.802219     24.719138     -8.524955   \n",
              "std    ...     25.321953     33.583912     44.032514     23.820691   \n",
              "min    ...   -142.654497    -99.231688    -64.734284   -113.397327   \n",
              "25%    ...     -7.750354      0.000000      0.000000      0.000000   \n",
              "50%    ...      0.000000      0.000000      0.000000      0.000000   \n",
              "75%    ...      0.000000     12.497466     37.681938      0.000000   \n",
              "max    ...    119.213101    174.054403    167.942588    123.380512   \n",
              "\n",
              "                X10           Y10           Z10           X11           Y11  \\\n",
              "count  78095.000000  78095.000000  78095.000000  78095.000000  78095.000000   \n",
              "mean      10.154914     13.979146     -5.617450     -0.011789      0.010306   \n",
              "std       26.873653     34.451890     20.805720      1.149642      0.888304   \n",
              "min      -80.196289    -65.019295   -112.668930    -96.951690    -65.432143   \n",
              "25%        0.000000      0.000000      0.000000      0.000000      0.000000   \n",
              "50%        0.000000      0.000000      0.000000      0.000000      0.000000   \n",
              "75%        0.000000      0.000000      0.000000      0.000000      0.000000   \n",
              "max      149.486224    168.352478    108.455548     84.683328    127.945490   \n",
              "\n",
              "                Z11  \n",
              "count  78095.000000  \n",
              "mean       0.000674  \n",
              "std        0.393026  \n",
              "min      -48.274677  \n",
              "25%        0.000000  \n",
              "50%        0.000000  \n",
              "75%        0.000000  \n",
              "max       18.062286  \n",
              "\n",
              "[8 rows x 37 columns]"
            ],
            "text/html": [
              "\n",
              "  <div id=\"df-72abdcbd-28cd-442f-aa6e-0ed182ea27ea\">\n",
              "    <div class=\"colab-df-container\">\n",
              "      <div>\n",
              "<style scoped>\n",
              "    .dataframe tbody tr th:only-of-type {\n",
              "        vertical-align: middle;\n",
              "    }\n",
              "\n",
              "    .dataframe tbody tr th {\n",
              "        vertical-align: top;\n",
              "    }\n",
              "\n",
              "    .dataframe thead th {\n",
              "        text-align: right;\n",
              "    }\n",
              "</style>\n",
              "<table border=\"1\" class=\"dataframe\">\n",
              "  <thead>\n",
              "    <tr style=\"text-align: right;\">\n",
              "      <th></th>\n",
              "      <th>Class</th>\n",
              "      <th>X0</th>\n",
              "      <th>Y0</th>\n",
              "      <th>Z0</th>\n",
              "      <th>X1</th>\n",
              "      <th>Y1</th>\n",
              "      <th>Z1</th>\n",
              "      <th>X2</th>\n",
              "      <th>Y2</th>\n",
              "      <th>Z2</th>\n",
              "      <th>...</th>\n",
              "      <th>Z8</th>\n",
              "      <th>X9</th>\n",
              "      <th>Y9</th>\n",
              "      <th>Z9</th>\n",
              "      <th>X10</th>\n",
              "      <th>Y10</th>\n",
              "      <th>Z10</th>\n",
              "      <th>X11</th>\n",
              "      <th>Y11</th>\n",
              "      <th>Z11</th>\n",
              "    </tr>\n",
              "  </thead>\n",
              "  <tbody>\n",
              "    <tr>\n",
              "      <th>count</th>\n",
              "      <td>78095.000000</td>\n",
              "      <td>78095.000000</td>\n",
              "      <td>78095.000000</td>\n",
              "      <td>78095.000000</td>\n",
              "      <td>78095.000000</td>\n",
              "      <td>78095.000000</td>\n",
              "      <td>78095.000000</td>\n",
              "      <td>78095.000000</td>\n",
              "      <td>78095.000000</td>\n",
              "      <td>78095.000000</td>\n",
              "      <td>...</td>\n",
              "      <td>78095.000000</td>\n",
              "      <td>78095.000000</td>\n",
              "      <td>78095.000000</td>\n",
              "      <td>78095.000000</td>\n",
              "      <td>78095.000000</td>\n",
              "      <td>78095.000000</td>\n",
              "      <td>78095.000000</td>\n",
              "      <td>78095.000000</td>\n",
              "      <td>78095.000000</td>\n",
              "      <td>78095.000000</td>\n",
              "    </tr>\n",
              "    <tr>\n",
              "      <th>mean</th>\n",
              "      <td>2.983776</td>\n",
              "      <td>50.346308</td>\n",
              "      <td>85.813150</td>\n",
              "      <td>-29.985096</td>\n",
              "      <td>49.595844</td>\n",
              "      <td>86.193751</td>\n",
              "      <td>-29.509579</td>\n",
              "      <td>48.612744</td>\n",
              "      <td>83.772387</td>\n",
              "      <td>-30.560906</td>\n",
              "      <td>...</td>\n",
              "      <td>-9.535343</td>\n",
              "      <td>16.802219</td>\n",
              "      <td>24.719138</td>\n",
              "      <td>-8.524955</td>\n",
              "      <td>10.154914</td>\n",
              "      <td>13.979146</td>\n",
              "      <td>-5.617450</td>\n",
              "      <td>-0.011789</td>\n",
              "      <td>0.010306</td>\n",
              "      <td>0.000674</td>\n",
              "    </tr>\n",
              "    <tr>\n",
              "      <th>std</th>\n",
              "      <td>1.421152</td>\n",
              "      <td>32.695886</td>\n",
              "      <td>40.203448</td>\n",
              "      <td>34.361971</td>\n",
              "      <td>32.477961</td>\n",
              "      <td>40.452297</td>\n",
              "      <td>34.764460</td>\n",
              "      <td>33.605155</td>\n",
              "      <td>41.022710</td>\n",
              "      <td>35.120384</td>\n",
              "      <td>...</td>\n",
              "      <td>25.321953</td>\n",
              "      <td>33.583912</td>\n",
              "      <td>44.032514</td>\n",
              "      <td>23.820691</td>\n",
              "      <td>26.873653</td>\n",
              "      <td>34.451890</td>\n",
              "      <td>20.805720</td>\n",
              "      <td>1.149642</td>\n",
              "      <td>0.888304</td>\n",
              "      <td>0.393026</td>\n",
              "    </tr>\n",
              "    <tr>\n",
              "      <th>min</th>\n",
              "      <td>1.000000</td>\n",
              "      <td>-108.552738</td>\n",
              "      <td>-98.233756</td>\n",
              "      <td>-126.770872</td>\n",
              "      <td>-111.685241</td>\n",
              "      <td>-96.142589</td>\n",
              "      <td>-166.006838</td>\n",
              "      <td>-106.886524</td>\n",
              "      <td>-100.789312</td>\n",
              "      <td>-129.595296</td>\n",
              "      <td>...</td>\n",
              "      <td>-142.654497</td>\n",
              "      <td>-99.231688</td>\n",
              "      <td>-64.734284</td>\n",
              "      <td>-113.397327</td>\n",
              "      <td>-80.196289</td>\n",
              "      <td>-65.019295</td>\n",
              "      <td>-112.668930</td>\n",
              "      <td>-96.951690</td>\n",
              "      <td>-65.432143</td>\n",
              "      <td>-48.274677</td>\n",
              "    </tr>\n",
              "    <tr>\n",
              "      <th>25%</th>\n",
              "      <td>2.000000</td>\n",
              "      <td>29.295141</td>\n",
              "      <td>63.497746</td>\n",
              "      <td>-56.356593</td>\n",
              "      <td>28.755679</td>\n",
              "      <td>64.156450</td>\n",
              "      <td>-57.360408</td>\n",
              "      <td>25.173405</td>\n",
              "      <td>58.053733</td>\n",
              "      <td>-58.654339</td>\n",
              "      <td>...</td>\n",
              "      <td>-7.750354</td>\n",
              "      <td>0.000000</td>\n",
              "      <td>0.000000</td>\n",
              "      <td>0.000000</td>\n",
              "      <td>0.000000</td>\n",
              "      <td>0.000000</td>\n",
              "      <td>0.000000</td>\n",
              "      <td>0.000000</td>\n",
              "      <td>0.000000</td>\n",
              "      <td>0.000000</td>\n",
              "    </tr>\n",
              "    <tr>\n",
              "      <th>50%</th>\n",
              "      <td>3.000000</td>\n",
              "      <td>54.620245</td>\n",
              "      <td>86.526334</td>\n",
              "      <td>-30.864248</td>\n",
              "      <td>54.215714</td>\n",
              "      <td>87.543493</td>\n",
              "      <td>-30.185331</td>\n",
              "      <td>53.814592</td>\n",
              "      <td>86.459935</td>\n",
              "      <td>-32.356535</td>\n",
              "      <td>...</td>\n",
              "      <td>0.000000</td>\n",
              "      <td>0.000000</td>\n",
              "      <td>0.000000</td>\n",
              "      <td>0.000000</td>\n",
              "      <td>0.000000</td>\n",
              "      <td>0.000000</td>\n",
              "      <td>0.000000</td>\n",
              "      <td>0.000000</td>\n",
              "      <td>0.000000</td>\n",
              "      <td>0.000000</td>\n",
              "    </tr>\n",
              "    <tr>\n",
              "      <th>75%</th>\n",
              "      <td>4.000000</td>\n",
              "      <td>72.488833</td>\n",
              "      <td>113.108673</td>\n",
              "      <td>-1.419462</td>\n",
              "      <td>71.763080</td>\n",
              "      <td>116.228881</td>\n",
              "      <td>-0.368080</td>\n",
              "      <td>71.561988</td>\n",
              "      <td>106.661720</td>\n",
              "      <td>-0.946134</td>\n",
              "      <td>...</td>\n",
              "      <td>0.000000</td>\n",
              "      <td>12.497466</td>\n",
              "      <td>37.681938</td>\n",
              "      <td>0.000000</td>\n",
              "      <td>0.000000</td>\n",
              "      <td>0.000000</td>\n",
              "      <td>0.000000</td>\n",
              "      <td>0.000000</td>\n",
              "      <td>0.000000</td>\n",
              "      <td>0.000000</td>\n",
              "    </tr>\n",
              "    <tr>\n",
              "      <th>max</th>\n",
              "      <td>5.000000</td>\n",
              "      <td>190.017835</td>\n",
              "      <td>169.175464</td>\n",
              "      <td>113.345119</td>\n",
              "      <td>188.691997</td>\n",
              "      <td>170.209350</td>\n",
              "      <td>104.697852</td>\n",
              "      <td>188.760168</td>\n",
              "      <td>168.186466</td>\n",
              "      <td>104.590879</td>\n",
              "      <td>...</td>\n",
              "      <td>119.213101</td>\n",
              "      <td>174.054403</td>\n",
              "      <td>167.942588</td>\n",
              "      <td>123.380512</td>\n",
              "      <td>149.486224</td>\n",
              "      <td>168.352478</td>\n",
              "      <td>108.455548</td>\n",
              "      <td>84.683328</td>\n",
              "      <td>127.945490</td>\n",
              "      <td>18.062286</td>\n",
              "    </tr>\n",
              "  </tbody>\n",
              "</table>\n",
              "<p>8 rows × 37 columns</p>\n",
              "</div>\n",
              "      <button class=\"colab-df-convert\" onclick=\"convertToInteractive('df-72abdcbd-28cd-442f-aa6e-0ed182ea27ea')\"\n",
              "              title=\"Convert this dataframe to an interactive table.\"\n",
              "              style=\"display:none;\">\n",
              "        \n",
              "  <svg xmlns=\"http://www.w3.org/2000/svg\" height=\"24px\"viewBox=\"0 0 24 24\"\n",
              "       width=\"24px\">\n",
              "    <path d=\"M0 0h24v24H0V0z\" fill=\"none\"/>\n",
              "    <path d=\"M18.56 5.44l.94 2.06.94-2.06 2.06-.94-2.06-.94-.94-2.06-.94 2.06-2.06.94zm-11 1L8.5 8.5l.94-2.06 2.06-.94-2.06-.94L8.5 2.5l-.94 2.06-2.06.94zm10 10l.94 2.06.94-2.06 2.06-.94-2.06-.94-.94-2.06-.94 2.06-2.06.94z\"/><path d=\"M17.41 7.96l-1.37-1.37c-.4-.4-.92-.59-1.43-.59-.52 0-1.04.2-1.43.59L10.3 9.45l-7.72 7.72c-.78.78-.78 2.05 0 2.83L4 21.41c.39.39.9.59 1.41.59.51 0 1.02-.2 1.41-.59l7.78-7.78 2.81-2.81c.8-.78.8-2.07 0-2.86zM5.41 20L4 18.59l7.72-7.72 1.47 1.35L5.41 20z\"/>\n",
              "  </svg>\n",
              "      </button>\n",
              "      \n",
              "  <style>\n",
              "    .colab-df-container {\n",
              "      display:flex;\n",
              "      flex-wrap:wrap;\n",
              "      gap: 12px;\n",
              "    }\n",
              "\n",
              "    .colab-df-convert {\n",
              "      background-color: #E8F0FE;\n",
              "      border: none;\n",
              "      border-radius: 50%;\n",
              "      cursor: pointer;\n",
              "      display: none;\n",
              "      fill: #1967D2;\n",
              "      height: 32px;\n",
              "      padding: 0 0 0 0;\n",
              "      width: 32px;\n",
              "    }\n",
              "\n",
              "    .colab-df-convert:hover {\n",
              "      background-color: #E2EBFA;\n",
              "      box-shadow: 0px 1px 2px rgba(60, 64, 67, 0.3), 0px 1px 3px 1px rgba(60, 64, 67, 0.15);\n",
              "      fill: #174EA6;\n",
              "    }\n",
              "\n",
              "    [theme=dark] .colab-df-convert {\n",
              "      background-color: #3B4455;\n",
              "      fill: #D2E3FC;\n",
              "    }\n",
              "\n",
              "    [theme=dark] .colab-df-convert:hover {\n",
              "      background-color: #434B5C;\n",
              "      box-shadow: 0px 1px 3px 1px rgba(0, 0, 0, 0.15);\n",
              "      filter: drop-shadow(0px 1px 2px rgba(0, 0, 0, 0.3));\n",
              "      fill: #FFFFFF;\n",
              "    }\n",
              "  </style>\n",
              "\n",
              "      <script>\n",
              "        const buttonEl =\n",
              "          document.querySelector('#df-72abdcbd-28cd-442f-aa6e-0ed182ea27ea button.colab-df-convert');\n",
              "        buttonEl.style.display =\n",
              "          google.colab.kernel.accessAllowed ? 'block' : 'none';\n",
              "\n",
              "        async function convertToInteractive(key) {\n",
              "          const element = document.querySelector('#df-72abdcbd-28cd-442f-aa6e-0ed182ea27ea');\n",
              "          const dataTable =\n",
              "            await google.colab.kernel.invokeFunction('convertToInteractive',\n",
              "                                                     [key], {});\n",
              "          if (!dataTable) return;\n",
              "\n",
              "          const docLinkHtml = 'Like what you see? Visit the ' +\n",
              "            '<a target=\"_blank\" href=https://colab.research.google.com/notebooks/data_table.ipynb>data table notebook</a>'\n",
              "            + ' to learn more about interactive tables.';\n",
              "          element.innerHTML = '';\n",
              "          dataTable['output_type'] = 'display_data';\n",
              "          await google.colab.output.renderOutput(dataTable, element);\n",
              "          const docLink = document.createElement('div');\n",
              "          docLink.innerHTML = docLinkHtml;\n",
              "          element.appendChild(docLink);\n",
              "        }\n",
              "      </script>\n",
              "    </div>\n",
              "  </div>\n",
              "  "
            ]
          },
          "metadata": {},
          "execution_count": 9
        }
      ]
    },
    {
      "cell_type": "code",
      "source": [
        "X = df.drop(\"Class\", axis = 1)\n",
        "y = df['Class']"
      ],
      "metadata": {
        "id": "nVRJI6wVK7ay"
      },
      "execution_count": null,
      "outputs": []
    },
    {
      "cell_type": "code",
      "source": [
        "df.head()"
      ],
      "metadata": {
        "id": "Ce6QQLKNLQOw",
        "colab": {
          "base_uri": "https://localhost:8080/",
          "height": 299
        },
        "outputId": "56d6dc1b-339d-46c9-c5e3-67d862e1837a"
      },
      "execution_count": null,
      "outputs": [
        {
          "output_type": "execute_result",
          "data": {
            "text/plain": [
              "   Class         X0         Y0         Z0         X1         Y1         Z1  \\\n",
              "1    1.0  54.263880  71.466776 -64.807709  76.895635  42.462500 -72.780545   \n",
              "2    1.0  56.527558  72.266609 -61.935252  39.135978  82.538530 -49.596509   \n",
              "3    1.0  55.849928  72.469064 -62.562788  37.988804  82.631347 -50.606259   \n",
              "4    1.0  55.329647  71.707275 -63.688956  36.561863  81.868749 -52.752784   \n",
              "5    1.0  55.142401  71.435607 -64.177303  36.175818  81.556874 -53.475747   \n",
              "\n",
              "          X2         Y2         Z2  ...   Z8   X9   Y9   Z9  X10  Y10  Z10  \\\n",
              "1  36.621229  81.680557 -52.919272  ...  0.0  0.0  0.0  0.0  0.0  0.0  0.0   \n",
              "2  79.223743  43.254091 -69.982489  ...  0.0  0.0  0.0  0.0  0.0  0.0  0.0   \n",
              "3  78.451526  43.567403 -70.658489  ...  0.0  0.0  0.0  0.0  0.0  0.0  0.0   \n",
              "4  86.320630  68.214645 -72.228461  ...  0.0  0.0  0.0  0.0  0.0  0.0  0.0   \n",
              "5  76.986143  42.426849 -72.574743  ...  0.0  0.0  0.0  0.0  0.0  0.0  0.0   \n",
              "\n",
              "   X11  Y11  Z11  \n",
              "1  0.0  0.0  0.0  \n",
              "2  0.0  0.0  0.0  \n",
              "3  0.0  0.0  0.0  \n",
              "4  0.0  0.0  0.0  \n",
              "5  0.0  0.0  0.0  \n",
              "\n",
              "[5 rows x 37 columns]"
            ],
            "text/html": [
              "\n",
              "  <div id=\"df-47b6ecdb-eba8-49c2-a75d-9a0c2e52bf08\">\n",
              "    <div class=\"colab-df-container\">\n",
              "      <div>\n",
              "<style scoped>\n",
              "    .dataframe tbody tr th:only-of-type {\n",
              "        vertical-align: middle;\n",
              "    }\n",
              "\n",
              "    .dataframe tbody tr th {\n",
              "        vertical-align: top;\n",
              "    }\n",
              "\n",
              "    .dataframe thead th {\n",
              "        text-align: right;\n",
              "    }\n",
              "</style>\n",
              "<table border=\"1\" class=\"dataframe\">\n",
              "  <thead>\n",
              "    <tr style=\"text-align: right;\">\n",
              "      <th></th>\n",
              "      <th>Class</th>\n",
              "      <th>X0</th>\n",
              "      <th>Y0</th>\n",
              "      <th>Z0</th>\n",
              "      <th>X1</th>\n",
              "      <th>Y1</th>\n",
              "      <th>Z1</th>\n",
              "      <th>X2</th>\n",
              "      <th>Y2</th>\n",
              "      <th>Z2</th>\n",
              "      <th>...</th>\n",
              "      <th>Z8</th>\n",
              "      <th>X9</th>\n",
              "      <th>Y9</th>\n",
              "      <th>Z9</th>\n",
              "      <th>X10</th>\n",
              "      <th>Y10</th>\n",
              "      <th>Z10</th>\n",
              "      <th>X11</th>\n",
              "      <th>Y11</th>\n",
              "      <th>Z11</th>\n",
              "    </tr>\n",
              "  </thead>\n",
              "  <tbody>\n",
              "    <tr>\n",
              "      <th>1</th>\n",
              "      <td>1.0</td>\n",
              "      <td>54.263880</td>\n",
              "      <td>71.466776</td>\n",
              "      <td>-64.807709</td>\n",
              "      <td>76.895635</td>\n",
              "      <td>42.462500</td>\n",
              "      <td>-72.780545</td>\n",
              "      <td>36.621229</td>\n",
              "      <td>81.680557</td>\n",
              "      <td>-52.919272</td>\n",
              "      <td>...</td>\n",
              "      <td>0.0</td>\n",
              "      <td>0.0</td>\n",
              "      <td>0.0</td>\n",
              "      <td>0.0</td>\n",
              "      <td>0.0</td>\n",
              "      <td>0.0</td>\n",
              "      <td>0.0</td>\n",
              "      <td>0.0</td>\n",
              "      <td>0.0</td>\n",
              "      <td>0.0</td>\n",
              "    </tr>\n",
              "    <tr>\n",
              "      <th>2</th>\n",
              "      <td>1.0</td>\n",
              "      <td>56.527558</td>\n",
              "      <td>72.266609</td>\n",
              "      <td>-61.935252</td>\n",
              "      <td>39.135978</td>\n",
              "      <td>82.538530</td>\n",
              "      <td>-49.596509</td>\n",
              "      <td>79.223743</td>\n",
              "      <td>43.254091</td>\n",
              "      <td>-69.982489</td>\n",
              "      <td>...</td>\n",
              "      <td>0.0</td>\n",
              "      <td>0.0</td>\n",
              "      <td>0.0</td>\n",
              "      <td>0.0</td>\n",
              "      <td>0.0</td>\n",
              "      <td>0.0</td>\n",
              "      <td>0.0</td>\n",
              "      <td>0.0</td>\n",
              "      <td>0.0</td>\n",
              "      <td>0.0</td>\n",
              "    </tr>\n",
              "    <tr>\n",
              "      <th>3</th>\n",
              "      <td>1.0</td>\n",
              "      <td>55.849928</td>\n",
              "      <td>72.469064</td>\n",
              "      <td>-62.562788</td>\n",
              "      <td>37.988804</td>\n",
              "      <td>82.631347</td>\n",
              "      <td>-50.606259</td>\n",
              "      <td>78.451526</td>\n",
              "      <td>43.567403</td>\n",
              "      <td>-70.658489</td>\n",
              "      <td>...</td>\n",
              "      <td>0.0</td>\n",
              "      <td>0.0</td>\n",
              "      <td>0.0</td>\n",
              "      <td>0.0</td>\n",
              "      <td>0.0</td>\n",
              "      <td>0.0</td>\n",
              "      <td>0.0</td>\n",
              "      <td>0.0</td>\n",
              "      <td>0.0</td>\n",
              "      <td>0.0</td>\n",
              "    </tr>\n",
              "    <tr>\n",
              "      <th>4</th>\n",
              "      <td>1.0</td>\n",
              "      <td>55.329647</td>\n",
              "      <td>71.707275</td>\n",
              "      <td>-63.688956</td>\n",
              "      <td>36.561863</td>\n",
              "      <td>81.868749</td>\n",
              "      <td>-52.752784</td>\n",
              "      <td>86.320630</td>\n",
              "      <td>68.214645</td>\n",
              "      <td>-72.228461</td>\n",
              "      <td>...</td>\n",
              "      <td>0.0</td>\n",
              "      <td>0.0</td>\n",
              "      <td>0.0</td>\n",
              "      <td>0.0</td>\n",
              "      <td>0.0</td>\n",
              "      <td>0.0</td>\n",
              "      <td>0.0</td>\n",
              "      <td>0.0</td>\n",
              "      <td>0.0</td>\n",
              "      <td>0.0</td>\n",
              "    </tr>\n",
              "    <tr>\n",
              "      <th>5</th>\n",
              "      <td>1.0</td>\n",
              "      <td>55.142401</td>\n",
              "      <td>71.435607</td>\n",
              "      <td>-64.177303</td>\n",
              "      <td>36.175818</td>\n",
              "      <td>81.556874</td>\n",
              "      <td>-53.475747</td>\n",
              "      <td>76.986143</td>\n",
              "      <td>42.426849</td>\n",
              "      <td>-72.574743</td>\n",
              "      <td>...</td>\n",
              "      <td>0.0</td>\n",
              "      <td>0.0</td>\n",
              "      <td>0.0</td>\n",
              "      <td>0.0</td>\n",
              "      <td>0.0</td>\n",
              "      <td>0.0</td>\n",
              "      <td>0.0</td>\n",
              "      <td>0.0</td>\n",
              "      <td>0.0</td>\n",
              "      <td>0.0</td>\n",
              "    </tr>\n",
              "  </tbody>\n",
              "</table>\n",
              "<p>5 rows × 37 columns</p>\n",
              "</div>\n",
              "      <button class=\"colab-df-convert\" onclick=\"convertToInteractive('df-47b6ecdb-eba8-49c2-a75d-9a0c2e52bf08')\"\n",
              "              title=\"Convert this dataframe to an interactive table.\"\n",
              "              style=\"display:none;\">\n",
              "        \n",
              "  <svg xmlns=\"http://www.w3.org/2000/svg\" height=\"24px\"viewBox=\"0 0 24 24\"\n",
              "       width=\"24px\">\n",
              "    <path d=\"M0 0h24v24H0V0z\" fill=\"none\"/>\n",
              "    <path d=\"M18.56 5.44l.94 2.06.94-2.06 2.06-.94-2.06-.94-.94-2.06-.94 2.06-2.06.94zm-11 1L8.5 8.5l.94-2.06 2.06-.94-2.06-.94L8.5 2.5l-.94 2.06-2.06.94zm10 10l.94 2.06.94-2.06 2.06-.94-2.06-.94-.94-2.06-.94 2.06-2.06.94z\"/><path d=\"M17.41 7.96l-1.37-1.37c-.4-.4-.92-.59-1.43-.59-.52 0-1.04.2-1.43.59L10.3 9.45l-7.72 7.72c-.78.78-.78 2.05 0 2.83L4 21.41c.39.39.9.59 1.41.59.51 0 1.02-.2 1.41-.59l7.78-7.78 2.81-2.81c.8-.78.8-2.07 0-2.86zM5.41 20L4 18.59l7.72-7.72 1.47 1.35L5.41 20z\"/>\n",
              "  </svg>\n",
              "      </button>\n",
              "      \n",
              "  <style>\n",
              "    .colab-df-container {\n",
              "      display:flex;\n",
              "      flex-wrap:wrap;\n",
              "      gap: 12px;\n",
              "    }\n",
              "\n",
              "    .colab-df-convert {\n",
              "      background-color: #E8F0FE;\n",
              "      border: none;\n",
              "      border-radius: 50%;\n",
              "      cursor: pointer;\n",
              "      display: none;\n",
              "      fill: #1967D2;\n",
              "      height: 32px;\n",
              "      padding: 0 0 0 0;\n",
              "      width: 32px;\n",
              "    }\n",
              "\n",
              "    .colab-df-convert:hover {\n",
              "      background-color: #E2EBFA;\n",
              "      box-shadow: 0px 1px 2px rgba(60, 64, 67, 0.3), 0px 1px 3px 1px rgba(60, 64, 67, 0.15);\n",
              "      fill: #174EA6;\n",
              "    }\n",
              "\n",
              "    [theme=dark] .colab-df-convert {\n",
              "      background-color: #3B4455;\n",
              "      fill: #D2E3FC;\n",
              "    }\n",
              "\n",
              "    [theme=dark] .colab-df-convert:hover {\n",
              "      background-color: #434B5C;\n",
              "      box-shadow: 0px 1px 3px 1px rgba(0, 0, 0, 0.15);\n",
              "      filter: drop-shadow(0px 1px 2px rgba(0, 0, 0, 0.3));\n",
              "      fill: #FFFFFF;\n",
              "    }\n",
              "  </style>\n",
              "\n",
              "      <script>\n",
              "        const buttonEl =\n",
              "          document.querySelector('#df-47b6ecdb-eba8-49c2-a75d-9a0c2e52bf08 button.colab-df-convert');\n",
              "        buttonEl.style.display =\n",
              "          google.colab.kernel.accessAllowed ? 'block' : 'none';\n",
              "\n",
              "        async function convertToInteractive(key) {\n",
              "          const element = document.querySelector('#df-47b6ecdb-eba8-49c2-a75d-9a0c2e52bf08');\n",
              "          const dataTable =\n",
              "            await google.colab.kernel.invokeFunction('convertToInteractive',\n",
              "                                                     [key], {});\n",
              "          if (!dataTable) return;\n",
              "\n",
              "          const docLinkHtml = 'Like what you see? Visit the ' +\n",
              "            '<a target=\"_blank\" href=https://colab.research.google.com/notebooks/data_table.ipynb>data table notebook</a>'\n",
              "            + ' to learn more about interactive tables.';\n",
              "          element.innerHTML = '';\n",
              "          dataTable['output_type'] = 'display_data';\n",
              "          await google.colab.output.renderOutput(dataTable, element);\n",
              "          const docLink = document.createElement('div');\n",
              "          docLink.innerHTML = docLinkHtml;\n",
              "          element.appendChild(docLink);\n",
              "        }\n",
              "      </script>\n",
              "    </div>\n",
              "  </div>\n",
              "  "
            ]
          },
          "metadata": {},
          "execution_count": 11
        }
      ]
    },
    {
      "cell_type": "code",
      "source": [
        "X_train, X_test, y_train, y_test = train_test_split(X, y, test_size=0.2, random_state=100)\n",
        "scaler = StandardScaler()\n",
        "scaled_X_train = scaler.fit_transform(X_train)\n",
        "scaled_X_test = scaler.transform(X_test)"
      ],
      "metadata": {
        "id": "1aDniqpbMug2"
      },
      "execution_count": null,
      "outputs": []
    },
    {
      "cell_type": "code",
      "source": [
        "rtree = RandomForestClassifier(100)\n",
        "rtree.fit(scaled_X_train, y_train)\n",
        "y_pred_RFC = rtree.predict(scaled_X_test)\n",
        "print(classification_report(y_test,y_pred_RFC))\n",
        "print(confusion_matrix(y_test,y_pred_RFC))\n",
        "sns.heatmap(confusion_matrix(y_test,y_pred_RFC))"
      ],
      "metadata": {
        "id": "Qe6U-Kr2M6lU",
        "colab": {
          "base_uri": "https://localhost:8080/",
          "height": 742
        },
        "outputId": "f4843c64-4d76-4cc6-9ec0-889eff698698"
      },
      "execution_count": null,
      "outputs": [
        {
          "output_type": "stream",
          "name": "stdout",
          "text": [
            "              precision    recall  f1-score   support\n",
            "\n",
            "         1.0       1.00      0.99      0.99      4071\n",
            "         2.0       0.98      0.97      0.97      3703\n",
            "         3.0       0.99      0.99      0.99      4178\n",
            "         4.0       0.99      0.99      0.99      3648\n",
            "         5.0       0.98      0.98      0.98      3924\n",
            "\n",
            "    accuracy                           0.99     19524\n",
            "   macro avg       0.99      0.99      0.99     19524\n",
            "weighted avg       0.99      0.99      0.99     19524\n",
            "\n",
            "[[4047   16    8    0    0]\n",
            " [   2 3576   21   22   82]\n",
            " [  13    0 4143   21    1]\n",
            " [   2    1   28 3610    7]\n",
            " [   0   42    6   11 3865]]\n"
          ]
        },
        {
          "output_type": "execute_result",
          "data": {
            "text/plain": [
              "<Axes: >"
            ]
          },
          "metadata": {},
          "execution_count": 13
        },
        {
          "output_type": "display_data",
          "data": {
            "text/plain": [
              "<Figure size 640x480 with 2 Axes>"
            ],
            "image/png": "[encoded data removed]"
          },
          "metadata": {}
        }
      ]
    },
    {
      "cell_type": "code",
      "source": [
        "log_model = LogisticRegression(max_iter=750)\n",
        "log_model.fit(X_train,y_train)\n",
        "y_pred_log = log_model.predict(X_test)\n",
        "print(classification_report(y_test,y_pred_log))\n",
        "print(confusion_matrix(y_test,y_pred_log))\n",
        "sns.heatmap(confusion_matrix(y_test,y_pred_log))"
      ],
      "metadata": {
        "id": "YwpWYuthNE_V",
        "colab": {
          "base_uri": "https://localhost:8080/",
          "height": 881
        },
        "outputId": "ac5327a4-b605-49b5-80b8-b22a7ff3e814"
      },
      "execution_count": null,
      "outputs": [
        {
          "output_type": "stream",
          "name": "stdout",
          "text": [
            "              precision    recall  f1-score   support\n",
            "\n",
            "         1.0       0.85      0.91      0.88      3269\n",
            "         2.0       0.86      0.88      0.87      2971\n",
            "         3.0       0.80      0.78      0.79      3341\n",
            "         4.0       0.76      0.79      0.77      2910\n",
            "         5.0       0.84      0.76      0.80      3128\n",
            "\n",
            "    accuracy                           0.82     15619\n",
            "   macro avg       0.82      0.82      0.82     15619\n",
            "weighted avg       0.82      0.82      0.82     15619\n",
            "\n",
            "[[2962   11  290    5    1]\n",
            " [  21 2610   24   33  283]\n",
            " [ 330   16 2591  373   31]\n",
            " [ 138   55  271 2292  154]\n",
            " [  38  340   63  308 2379]]\n"
          ]
        },
        {
          "output_type": "stream",
          "name": "stderr",
          "text": [
            "/usr/local/lib/python3.10/dist-packages/sklearn/linear_model/_logistic.py:458: ConvergenceWarning: lbfgs failed to converge (status=1):\n",
            "STOP: TOTAL NO. of ITERATIONS REACHED LIMIT.\n",
            "\n",
            "Increase the number of iterations (max_iter) or scale the data as shown in:\n",
            "    https://scikit-learn.org/stable/modules/preprocessing.html\n",
            "Please also refer to the documentation for alternative solver options:\n",
            "    https://scikit-learn.org/stable/modules/linear_model.html#logistic-regression\n",
            "  n_iter_i = _check_optimize_result(\n"
          ]
        },
        {
          "output_type": "execute_result",
          "data": {
            "text/plain": [
              "<Axes: >"
            ]
          },
          "metadata": {},
          "execution_count": 28
        },
        {
          "output_type": "display_data",
          "data": {
            "text/plain": [
              "<Figure size 640x480 with 2 Axes>"
            ],
            "image/png": "[encoded data removed]"
          },
          "metadata": {}
        }
      ]
    },
    {
      "cell_type": "code",
      "source": [
        "knn_model = KNeighborsClassifier()\n",
        "knn_model.fit(scaled_X_train,y_train)\n",
        "y_pred_knn = knn_model.predict(scaled_X_test)\n",
        "print(classification_report(y_test,y_pred_knn))\n",
        "print(confusion_matrix(y_test,y_pred_knn))\n",
        "sns.heatmap(confusion_matrix(y_test,y_pred_knn))"
      ],
      "metadata": {
        "id": "-8fBtOX5NHPc",
        "colab": {
          "base_uri": "https://localhost:8080/",
          "height": 742
        },
        "outputId": "2b07e990-ba73-4d16-ef62-5ebc6bb713fa"
      },
      "execution_count": null,
      "outputs": [
        {
          "output_type": "stream",
          "name": "stdout",
          "text": [
            "              precision    recall  f1-score   support\n",
            "\n",
            "         1.0       0.96      1.00      0.98      4071\n",
            "         2.0       0.92      0.96      0.94      3703\n",
            "         3.0       0.96      0.94      0.95      4178\n",
            "         4.0       0.91      0.94      0.92      3648\n",
            "         5.0       0.98      0.89      0.93      3924\n",
            "\n",
            "    accuracy                           0.95     19524\n",
            "   macro avg       0.95      0.95      0.94     19524\n",
            "weighted avg       0.95      0.95      0.95     19524\n",
            "\n",
            "[[4054   16    1    0    0]\n",
            " [  19 3555   18   41   70]\n",
            " [  81    2 3909  183    3]\n",
            " [  34   20  139 3445   10]\n",
            " [  15  262   23  132 3492]]\n"
          ]
        },
        {
          "output_type": "execute_result",
          "data": {
            "text/plain": [
              "<Axes: >"
            ]
          },
          "metadata": {},
          "execution_count": 15
        },
        {
          "output_type": "display_data",
          "data": {
            "text/plain": [
              "<Figure size 640x480 with 2 Axes>"
            ],
            "image/png": "[encoded data removed]"
          },
          "metadata": {}
        }
      ]
    },
    {
      "cell_type": "code",
      "source": [
        "svm_model = SVC()\n",
        "svm_model.fit(scaled_X_train,y_train)\n",
        "y_pred_svm = svm_model.predict(scaled_X_test)\n",
        "print(classification_report(y_test,y_pred_svm))\n",
        "print(confusion_matrix(y_test,y_pred_svm))\n",
        "sns.heatmap(confusion_matrix(y_test,y_pred_svm))"
      ],
      "metadata": {
        "id": "nPPvN9emNKEO",
        "colab": {
          "base_uri": "https://localhost:8080/",
          "height": 742
        },
        "outputId": "a6886abf-1b42-4681-cb58-95ffa8500b27"
      },
      "execution_count": null,
      "outputs": [
        {
          "output_type": "stream",
          "name": "stdout",
          "text": [
            "              precision    recall  f1-score   support\n",
            "\n",
            "         1.0       0.99      0.99      0.99      4071\n",
            "         2.0       0.98      0.97      0.98      3703\n",
            "         3.0       0.98      0.98      0.98      4178\n",
            "         4.0       0.98      0.98      0.98      3648\n",
            "         5.0       0.98      0.98      0.98      3924\n",
            "\n",
            "    accuracy                           0.98     19524\n",
            "   macro avg       0.98      0.98      0.98     19524\n",
            "weighted avg       0.98      0.98      0.98     19524\n",
            "\n",
            "[[4049   16    6    0    0]\n",
            " [  11 3605   20   20   47]\n",
            " [  34    0 4109   25   10]\n",
            " [   5    0   45 3584   14]\n",
            " [   0   60   13   13 3838]]\n"
          ]
        },
        {
          "output_type": "execute_result",
          "data": {
            "text/plain": [
              "<Axes: >"
            ]
          },
          "metadata": {},
          "execution_count": 16
        },
        {
          "output_type": "display_data",
          "data": {
            "text/plain": [
              "<Figure size 640x480 with 2 Axes>"
            ],
            "image/png": "[encoded data removed]"
          },
          "metadata": {}
        }
      ]
    },
    {
      "cell_type": "code",
      "source": [
        "tree_model = DecisionTreeClassifier()\n",
        "tree_model.fit(scaled_X_train,y_train)\n",
        "y_pred_tree = tree_model.predict(scaled_X_test)\n",
        "print(classification_report(y_test,y_pred_tree))\n",
        "print(confusion_matrix(y_test,y_pred_tree))\n",
        "sns.heatmap(confusion_matrix(y_test,y_pred_tree))"
      ],
      "metadata": {
        "id": "ZkF_9o9qNODI",
        "colab": {
          "base_uri": "https://localhost:8080/",
          "height": 743
        },
        "outputId": "f1f07a61-85dc-40e7-d3bc-db351e14fff8"
      },
      "execution_count": null,
      "outputs": [
        {
          "output_type": "stream",
          "name": "stdout",
          "text": [
            "              precision    recall  f1-score   support\n",
            "\n",
            "         1.0       0.99      0.99      0.99      4071\n",
            "         2.0       0.95      0.95      0.95      3703\n",
            "         3.0       0.97      0.97      0.97      4178\n",
            "         4.0       0.96      0.95      0.96      3648\n",
            "         5.0       0.94      0.95      0.95      3924\n",
            "\n",
            "    accuracy                           0.96     19524\n",
            "   macro avg       0.96      0.96      0.96     19524\n",
            "weighted avg       0.96      0.96      0.96     19524\n",
            "\n",
            "[[4025   17   16    2   11]\n",
            " [  16 3515   15   25  132]\n",
            " [  22   15 4048   65   28]\n",
            " [   8   21   75 3478   66]\n",
            " [   4  122   25   42 3731]]\n"
          ]
        },
        {
          "output_type": "execute_result",
          "data": {
            "text/plain": [
              "<Axes: >"
            ]
          },
          "metadata": {},
          "execution_count": 17
        },
        {
          "output_type": "display_data",
          "data": {
            "text/plain": [
              "<Figure size 640x480 with 2 Axes>"
            ],
            "image/png": "[encoded data removed]"
          },
          "metadata": {}
        }
      ]
    }
  ],
  "metadata": {
    "colab": {
      "provenance": []
    },
    "kernelspec": {
      "display_name": "Python 3",
      "name": "python3"
    },
    "language_info": {
      "name": "python"
    }
  },
  "nbformat": 4,
  "nbformat_minor": 0
}